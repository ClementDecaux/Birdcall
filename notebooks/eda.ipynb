{
 "cells": [
  {
   "cell_type": "markdown",
   "metadata": {},
   "source": [
    "# Test"
   ]
  },
  {
   "cell_type": "code",
   "execution_count": 42,
   "metadata": {},
   "outputs": [],
   "source": [
    "%reload_ext autoreload\n",
    "%autoreload 2"
   ]
  },
  {
   "cell_type": "code",
   "execution_count": 66,
   "metadata": {},
   "outputs": [],
   "source": [
    "from IPython.display import display\n",
    "\n",
    "import random\n",
    "\n",
    "import numpy as np\n",
    "\n",
    "from birdcall.bird_dataset import BirdAudioDataset\n",
    "from birdcall.bird_audio import BirdAudio"
   ]
  },
  {
   "cell_type": "code",
   "execution_count": 65,
   "metadata": {},
   "outputs": [
    {
     "name": "stderr",
     "output_type": "stream",
     "text": [
      "21375it [00:01, 11051.33it/s]\n"
     ]
    }
   ],
   "source": [
    "bird_audio_dataset = BirdAudioDataset(reset=True)\n",
    "bird_audio_dataset.convert_to_wav()"
   ]
  },
  {
   "cell_type": "code",
   "execution_count": 67,
   "metadata": {},
   "outputs": [
    {
     "name": "stderr",
     "output_type": "stream",
     "text": [
      "2979it [10:17,  7.07it/s]"
     ]
    }
   ],
   "source": [
    "bird_audio_dataset = BirdAudioDataset(reset=True)\n",
    "bird_audio_dataset.compute_spectrogram()"
   ]
  }
 ],
 "metadata": {
  "kernelspec": {
   "display_name": ".venv",
   "language": "python",
   "name": "python3"
  },
  "language_info": {
   "codemirror_mode": {
    "name": "ipython",
    "version": 3
   },
   "file_extension": ".py",
   "mimetype": "text/x-python",
   "name": "python",
   "nbconvert_exporter": "python",
   "pygments_lexer": "ipython3",
   "version": "3.10.8"
  },
  "orig_nbformat": 4,
  "vscode": {
   "interpreter": {
    "hash": "339d0dc8abdc562d16456bbad8066138eb67b243a062e9ac4bcd88dbb6273a62"
   }
  }
 },
 "nbformat": 4,
 "nbformat_minor": 2
}
